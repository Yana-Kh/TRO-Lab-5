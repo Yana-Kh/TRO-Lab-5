{
 "cells": [
  {
   "cell_type": "markdown",
   "id": "0dfa632f",
   "metadata": {},
   "source": [
    "### Задача: \n",
    "Создать ноутбук, в котором выполнить решение вычислительной задачи (например, задачи  из области физики, экономики, математики, статистики и т. д.) требующей построения линейного графика, условие которой предварительно необходимо согласовать с преподавателем."
   ]
  },
  {
   "cell_type": "markdown",
   "id": "5b0df8d2",
   "metadata": {},
   "source": [
    "#### Условие: \n",
    "Максим хочет взять кредит 1,5 млн рублей. Погашение кредита происходит раз в год равными суммами ( кроме, может быть, последней) после начисления процентов. Ставка процента 10% годовых. На какое минимальное количество лет может Максим взять кредит, чтобы ежегодные выплаты были не более 350 тысяч рублей?"
   ]
  },
  {
   "cell_type": "code",
   "execution_count": 4,
   "id": "7c01ea5c",
   "metadata": {},
   "outputs": [],
   "source": [
    "S = 1500000\n",
    "r = 0.1\n",
    "b = r + 1.0"
   ]
  },
  {
   "cell_type": "code",
   "execution_count": null,
   "id": "4292931d",
   "metadata": {},
   "outputs": [],
   "source": [
    "while S > 350000:\n",
    "    "
   ]
  }
 ],
 "metadata": {
  "kernelspec": {
   "display_name": "Python 3 (ipykernel)",
   "language": "python",
   "name": "python3"
  },
  "language_info": {
   "codemirror_mode": {
    "name": "ipython",
    "version": 3
   },
   "file_extension": ".py",
   "mimetype": "text/x-python",
   "name": "python",
   "nbconvert_exporter": "python",
   "pygments_lexer": "ipython3",
   "version": "3.9.12"
  }
 },
 "nbformat": 4,
 "nbformat_minor": 5
}
