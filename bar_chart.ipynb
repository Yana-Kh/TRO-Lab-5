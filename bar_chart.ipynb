{
 "cells": [
  {
   "cell_type": "markdown",
   "metadata": {
    "id": "JQivqlW4VaOB"
   },
   "source": [
    "## Задача:\n",
    "Создать ноутбук, в котором выполнить решение вычислительной задачи (например, задачи из области физики, экономики, математики, статистики и т. д.) требующей построения столбчатой диаграммы, условие которой предварительно необходимо согласовать с преподавателем."
   ]
  },
  {
   "cell_type": "markdown",
   "metadata": {
    "id": "or01-io_VaOM"
   },
   "source": [
    "### Условие:\n",
    "Написать программу, которая вычисляет количество платежей по аннуететному кредиту при вводе пользователем суммы кредита, процентной ставки и максимального платежа"
   ]
  },
  {
   "cell_type": "markdown",
   "metadata": {},
   "source": [
    "### Решение задачи:"
   ]
  },
  {
   "cell_type": "code",
   "execution_count": 2,
   "metadata": {
    "id": "ZcYDbrhnVaOP"
   },
   "outputs": [],
   "source": [
    "import matplotlib.pyplot as plt"
   ]
  },
  {
   "cell_type": "markdown",
   "metadata": {
    "id": "EpKb631-VaOV"
   },
   "source": [
    "Для решения задачи введем переменные: S - сумма кредита, r - процент, b -множитель для нахождения новой суммы кредита после начисления процента; groups и counts переменные для хранения названий и значений столбцов для построения диаграммы"
   ]
  },
  {
   "cell_type": "code",
   "execution_count": 3,
   "metadata": {
    "colab": {
     "base_uri": "https://localhost:8080/"
    },
    "executionInfo": {
     "elapsed": 20622,
     "status": "ok",
     "timestamp": 1681116270836,
     "user": {
      "displayName": "Яна Халимендик",
      "userId": "15107969447804239653"
     },
     "user_tz": -180
    },
    "id": "V4Q3cuCtVaOX",
    "outputId": "4dc5c8e0-31c8-45bc-852e-061aa0c91ca4"
   },
   "outputs": [
    {
     "name": "stdout",
     "output_type": "stream",
     "text": [
      "Введите сумму кридита: 100000\n",
      "Введите процентную ставку: 12\n",
      "Введите максимально возможный платеж: 15000\n"
     ]
    }
   ],
   "source": [
    "sum_cred =int(input(\"Введите сумму кридита: \"))\n",
    "r = float(input(\"Введите процентную ставку: \"))\n",
    "b = r/100 + 1.0\n",
    "payment = int(input(\"Введите максимально возможный платеж: \"))\n",
    "groups = []\n",
    "counts = []\n",
    "i = 1"
   ]
  },
  {
   "cell_type": "markdown",
   "metadata": {
    "id": "6MwEqxJBVaOd"
   },
   "source": [
    "Создадим цикл, в котором будем преобразовывать сумму кредита в соответствии с процентной ставкой и вычитая максимально возможный платеж"
   ]
  },
  {
   "cell_type": "code",
   "execution_count": 4,
   "metadata": {
    "id": "_IvB9a6eVaOf"
   },
   "outputs": [],
   "source": [
    "S = sum_cred\n",
    "while S > 0:\n",
    "    groups.append(i)\n",
    "    counts.append(S)\n",
    "    S = S * b - payment\n",
    "    i += 1"
   ]
  },
  {
   "cell_type": "markdown",
   "metadata": {
    "id": "gpNXPGjlVaOh"
   },
   "source": [
    "Составим столбчатую диаграмму, отражающую изменение суммы кредита после каждого платежа"
   ]
  },
  {
   "cell_type": "code",
   "execution_count": 5,
   "metadata": {
    "colab": {
     "base_uri": "https://localhost:8080/",
     "height": 447
    },
    "executionInfo": {
     "elapsed": 45,
     "status": "ok",
     "timestamp": 1681116278415,
     "user": {
      "displayName": "Яна Халимендик",
      "userId": "15107969447804239653"
     },
     "user_tz": -180
    },
    "id": "-W7KtNYtVaOj",
    "outputId": "65274f3a-cc34-4e9b-ab45-355724a8bf70"
   },
   "outputs": [
    {
     "data": {
      "text/plain": [
       "<BarContainer object of 15 artists>"
      ]
     },
     "execution_count": 5,
     "metadata": {},
     "output_type": "execute_result"
    },
    {
     "data": {
      "image/png": "[encoded data removed]",
      "text/plain": [
       "<Figure size 432x288 with 1 Axes>"
      ]
     },
     "metadata": {
      "needs_background": "light"
     },
     "output_type": "display_data"
    }
   ],
   "source": [
    "plt.title(f\"Отношние тела кредита к месяцам при максимальновозможном платеже: {payment}\")\n",
    "plt.xlabel(\"Месяц\")\n",
    "plt.ylabel(\"Тело кредита\")\n",
    "plt.bar(groups, counts, color = \"green\", width = 0.5, edgecolor=\"black\", alpha=0.6, align = 'edge', bottom = 20, linewidth=2.0)"
   ]
  },
  {
   "cell_type": "code",
   "execution_count": 6,
   "metadata": {
    "colab": {
     "base_uri": "https://localhost:8080/"
    },
    "executionInfo": {
     "elapsed": 468,
     "status": "ok",
     "timestamp": 1681116286866,
     "user": {
      "displayName": "Яна Халимендик",
      "userId": "15107969447804239653"
     },
     "user_tz": -180
    },
    "id": "0xJI_wUqVaOl",
    "outputId": "017f62e5-39a8-495d-d04b-5c30544e1b41"
   },
   "outputs": [
    {
     "name": "stdout",
     "output_type": "stream",
     "text": [
      "При взятии кредита на сумму 100000, под 12.0% с выплатой до 15000 рублей минимальное количество платежей  = 15\n"
     ]
    }
   ],
   "source": [
    "print(f\"При взятии кредита на сумму {sum_cred}, под {r}% с выплатой до {payment} рублей минимальное количество платежей  = {i - 1}\")"
   ]
  }
 ],
 "metadata": {
  "colab": {
   "provenance": []
  },
  "kernelspec": {
   "display_name": "Python 3 (ipykernel)",
   "language": "python",
   "name": "python3"
  },
  "language_info": {
   "codemirror_mode": {
    "name": "ipython",
    "version": 3
   },
   "file_extension": ".py",
   "mimetype": "text/x-python",
   "name": "python",
   "nbconvert_exporter": "python",
   "pygments_lexer": "ipython3",
   "version": "3.9.12"
  }
 },
 "nbformat": 4,
 "nbformat_minor": 1
}
